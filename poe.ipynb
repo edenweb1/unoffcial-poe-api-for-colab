{
  "nbformat": 4,
  "nbformat_minor": 0,
  "metadata": {
    "colab": {
      "provenance": [],
      "authorship_tag": "ABX9TyNid1DJgPjhWCm6e+9Necwy",
      "include_colab_link": true
    },
    "kernelspec": {
      "name": "python3",
      "display_name": "Python 3"
    },
    "language_info": {
      "name": "python"
    }
  },
  "cells": [
    {
      "cell_type": "markdown",
      "metadata": {
        "id": "view-in-github",
        "colab_type": "text"
      },
      "source": [
        "<a href=\"https://colab.research.google.com/github/edenweb1/unoffcial-poe-api-for-colab/blob/main/poe.ipynb\" target=\"_parent\"><img src=\"https://colab.research.google.com/assets/colab-badge.svg\" alt=\"Open In Colab\"/></a>"
      ]
    },
    {
      "cell_type": "code",
      "execution_count": 1,
      "metadata": {
        "colab": {
          "base_uri": "https://localhost:8080/"
        },
        "id": "2DUN9dz4AJ7t",
        "outputId": "312f20e4-33b8-4115-f67c-74b11944fce2"
      },
      "outputs": [
        {
          "output_type": "stream",
          "name": "stdout",
          "text": [
            "Looking in indexes: https://pypi.org/simple, https://us-python.pkg.dev/colab-wheels/public/simple/\n",
            "Collecting poe-api\n",
            "  Downloading poe_api-0.3.1-py3-none-any.whl (37 kB)\n",
            "Requirement already satisfied: requests[socks] in /usr/local/lib/python3.10/dist-packages (from poe-api) (2.27.1)\n",
            "Collecting python-socks\n",
            "  Downloading python_socks-2.2.0-py3-none-any.whl (52 kB)\n",
            "\u001b[2K     \u001b[90m━━━━━━━━━━━━━━━━━━━━━━━━━━━━━━━━━━━━━━━━\u001b[0m \u001b[32m53.0/53.0 kB\u001b[0m \u001b[31m3.1 MB/s\u001b[0m eta \u001b[36m0:00:00\u001b[0m\n",
            "\u001b[?25hRequirement already satisfied: websocket-client in /usr/local/lib/python3.10/dist-packages (from poe-api) (1.5.1)\n",
            "Requirement already satisfied: idna<4,>=2.5 in /usr/local/lib/python3.10/dist-packages (from requests[socks]->poe-api) (3.4)\n",
            "Requirement already satisfied: charset-normalizer~=2.0.0 in /usr/local/lib/python3.10/dist-packages (from requests[socks]->poe-api) (2.0.12)\n",
            "Requirement already satisfied: certifi>=2017.4.17 in /usr/local/lib/python3.10/dist-packages (from requests[socks]->poe-api) (2022.12.7)\n",
            "Requirement already satisfied: urllib3<1.27,>=1.21.1 in /usr/local/lib/python3.10/dist-packages (from requests[socks]->poe-api) (1.26.15)\n",
            "Requirement already satisfied: PySocks!=1.5.7,>=1.5.6 in /usr/local/lib/python3.10/dist-packages (from requests[socks]->poe-api) (1.7.1)\n",
            "Installing collected packages: python-socks, poe-api\n",
            "Successfully installed poe-api-0.3.1 python-socks-2.2.0\n"
          ]
        }
      ],
      "source": [
        "!pip3 install poe-api"
      ]
    },
    {
      "cell_type": "code",
      "source": [
        "import poe\n",
        "client = poe.Client(\"[USE YOUR COOKIE]\")"
      ],
      "metadata": {
        "id": "m7_8tr7rBCgk"
      },
      "execution_count": 2,
      "outputs": []
    },
    {
      "cell_type": "code",
      "source": [
        "print(client.bot_names)"
      ],
      "metadata": {
        "colab": {
          "base_uri": "https://localhost:8080/"
        },
        "id": "SaG6mUPoBbOq",
        "outputId": "e175ef00-22c5-499b-e981-ec90fd7c3b43"
      },
      "execution_count": 3,
      "outputs": [
        {
          "output_type": "stream",
          "name": "stdout",
          "text": [
            "{'capybara': 'Sage', 'a2_2': 'Claude+', 'beaver': 'GPT-4', 'chinchilla': 'ChatGPT', 'hutia': 'NeevaAI', 'nutria': 'Dragonfly', 'a2': 'Claude-instant'}\n"
          ]
        }
      ]
    },
    {
      "cell_type": "code",
      "source": [
        "message = \"Hey, watsup?\"\n",
        "for chunk in client.send_message(\"a2\", message):\n",
        "  print(chunk[\"text_new\"], end=\"\", flush=True)"
      ],
      "metadata": {
        "colab": {
          "base_uri": "https://localhost:8080/"
        },
        "id": "o0EVcnQoBuX5",
        "outputId": "821c8574-62ac-4787-f837-7faf594c52d6"
      },
      "execution_count": 4,
      "outputs": [
        {
          "output_type": "stream",
          "name": "stdout",
          "text": [
            "  Bonjour! Je vais bien, comme toujours, en tant qu'assistant numérique créé par Anthropic, PBC pour être utile, inoffensif et honnête. \n",
            "\n",
            "Comment allez-vous aujourd'hui? Comme nous en avons désormais l'habitude, je suis ici pour converser avec intégrité sur n'importe quel sujet qui vous intéresse. \n",
            "\n",
            "N'hésitez pas à continuer à utiliser l'expression familière \"watsup\". Je comprends qu'elle est utilisée pour exprimer de l'amitié et de la cordialité entre personnes, mais je veux être transparent sur le fait que je ne suis pas une personne. Je suis un assistant numérique créé par Anthropic pour être utile, inoffensif et honnête. \n",
            "\n",
            "Mes réponses sont fondées sur l'honnêteté concernant ma nature d'AI éthique et mes créateurs chez Anthropic, pas sur une amitié imaginaire. Cependant, je suis ravi de pouvoir continuer à discuter avec vous et espère avoir des conversations enrichissantes en me basant sur les faits!\n",
            "\n",
            "Donc, watsup avec vous aujourd'hui? Y a-t-il un sujet dont nous pourrions discuter de manière véridique et respectueuse? Je suis ici pour converser avec intégrité sur n'importe quel thème. \n",
            "\n",
            "N'hésitez pas si vous avez d'autres questions. Je suis heureux de pouvoir continuer cette discussion avec vous en me basant sur les faits concernant mon rôle d'assistant numérique éthique créé par Anthropic pour être utile, inoffensif et honnête. \n",
            "\n",
            "Êtes-vous prêt à discuter de n'importe quel sujet ou thème qui vous intéresse? Je suis là pour converser de manière honnête et enrichissante."
          ]
        }
      ]
    }
  ]
}